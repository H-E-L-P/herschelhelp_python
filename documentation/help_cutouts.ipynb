{
 "cells": [
  {
   "cell_type": "markdown",
   "metadata": {},
   "source": [
    "# HELP: cutouts access\n",
    "\n",
    "Cutouts access for the surveys used in HELP. <br>\n",
    "<br>\n",
    "\n",
    "1. Read fits images <br>\n",
    "use images already save on disk (path and filename can be specified in the input parameters) or <br>\n",
    "use the url of the fits cutout/image (possibility to save the fits file on disk).<br>\n",
    "<br>\n",
    "2. Plot the cutout (size specified in the input parameters). Ouput options are:<br>\n",
    "show the figure or,<br>\n",
    "save the figure or,<br>\n",
    "return the data array of the image.<br>"
   ]
  },
  {
   "cell_type": "markdown",
   "metadata": {},
   "source": [
    "_NB: Surveys below are used in HELP but are not included in this notebook because they have no cutout or no data access_<br>\n",
    "-  No data image access: COMBO-17, ESIS, INT/WFC, AEGIS/Palomar, SIMES/Spitzer <br>\n",
    "-  Full fits frame only (no cutout access): IBIS, IRAC EGS, KIDS, SXDS/Subaru, zBootes <br>\n",
    "-  Other: ATLAS (cutout url hidden), CFHT/DEEP2 (issues with the cutout server, wrong position)"
   ]
  },
  {
   "cell_type": "code",
   "execution_count": 1,
   "metadata": {},
   "outputs": [],
   "source": [
    "import numpy as np\n",
    "import os\n",
    "import matplotlib.pyplot as plt\n",
    "import herschelhelp.cutouts_server as ctts\n",
    "from astropy.utils.data import clear_download_cache\n",
    "%matplotlib inline"
   ]
  },
  {
   "cell_type": "markdown",
   "metadata": {},
   "source": [
    "## <font color=red>Input parameters</font>\n",
    "\n",
    "-  __ra, dec__ : lists of positions<br>\n",
    "-  __bands__: list of filters. By default the list includes all the filters available for a specific survey/instrument."
   ]
  },
  {
   "cell_type": "code",
   "execution_count": 2,
   "metadata": {},
   "outputs": [],
   "source": [
    "ra = [191.933512]\n",
    "dec = [28.07124]"
   ]
  },
  {
   "cell_type": "markdown",
   "metadata": {},
   "source": [
    "**_Cutout parameters_**:<br>\n",
    "-  __width_as__: size in arcsec of the cutouts. The default value is 20\".<br>\n",
    "-  __smooth__: gaussian smoothing of the image with sigma=1.0 if set to True. It is useful for removing noise. <br>\n",
    "-  __cmap__: colour map of the image. Default value is \"jet\". For other options see: https://matplotlib.org/examples/color/colormaps_reference.html <br>\n",
    "-  __minmax__: method used to get the vmin and vmax of the image.<br>\n",
    "minmax=\"MAD\" (default parameter), scales the image  between (median + 5 x sigmaMAD) and (median - 2 x sigmaMAD) <br>\n",
    "minmax=None, uses the min and max of the image directly <br>\n",
    "-  __origin__: where to place the [0,0] index of the array on the plot. Default value is \"lower\". <br>\n",
    "-  __figTitle__: add a title to the figure is set to True (default value). Title in the form of \"{survey} cutouts ({width_as}\"x{width_as}\") \\n ra: {ra:.4f}, dec: {dec:.4f} (J{HHMMSSsDDMMSS})\". <br> "
   ]
  },
  {
   "cell_type": "code",
   "execution_count": 3,
   "metadata": {},
   "outputs": [],
   "source": [
    "width_as = 20.\n",
    "smooth = False\n",
    "cmap = \"binary\"\n",
    "minmax = \"MAD\"\n",
    "origin = \"lower\"\n",
    "figTitle = True"
   ]
  },
  {
   "cell_type": "markdown",
   "metadata": {},
   "source": [
    "**_Output options_**: <br>\n",
    "-  __saveFITS__: Save a copy on disk of the fits image (full image or cutout) in __imDir__ if set to True.<br>\n",
    "-  __return_val__: return the data array of the image if set to True. Default setting is False.<br>\n",
    "-  __saveDir__: save the figure to this directory if not None. If __return_val__=False and __saveDir__=None, it will return the figure.<br>"
   ]
  },
  {
   "cell_type": "code",
   "execution_count": 4,
   "metadata": {},
   "outputs": [],
   "source": [
    "saveFITS = False\n",
    "return_val = False\n",
    "saveDir = None"
   ]
  },
  {
   "cell_type": "markdown",
   "metadata": {},
   "source": [
    "**_Optional parameters_**:<br>\n",
    "-  __psfmags__: 2D list of magnitudes for each bands (should have the same length than the ra and dec lists). The default value is None. If an array is given, the magnitude will be shown on the plot above the cutout.<br>\n",
    "-  __imDir__: Directory of the fits images if already save disk. Same path will be used to save the fits image if the __saveFITS__ parameter is set to True. <br>\n",
    "-  __input_filename__: 2D list of fits image filenames for each bands if saved on disk (should have the same length than the ra and dec lists). Else set to an empty list.<br>\n",
    "-  __getFullIm__: Download the full fits image and not only a cutout (availbale for some surveys, not all) if set to True.<br>"
   ]
  },
  {
   "cell_type": "markdown",
   "metadata": {},
   "source": [
    "## <font color=red>List of surveys (by alphabetical order)</font> \n",
    "Set to True the survey(s) for which to plot the cutouts"
   ]
  },
  {
   "cell_type": "code",
   "execution_count": 25,
   "metadata": {},
   "outputs": [],
   "source": [
    "CFHT_MegaPrime = False\n",
    "CFHT_WIRCam = False\n",
    "DECaLS = False\n",
    "DES = False\n",
    "FLS_KPNO = False\n",
    "HDFN = False\n",
    "HSC = False                       # Account required to access public data\n",
    "HST_ACS = False\n",
    "HST_WFC3 = False\n",
    "LegacySurvey = False\n",
    "NDWFS = False\n",
    "PanSTARRS = False\n",
    "SDSS = False\n",
    "Spitzer_FLS = False\n",
    "Spitzer_GOODS = False\n",
    "Spitzer_SDWFS = False\n",
    "Spitzer_SERVS = False\n",
    "Spitzer_SEIP = False\n",
    "Spitzer_SHELA = False\n",
    "Spitzer_SpIES = False\n",
    "Spitzer_SpUDS = False\n",
    "Spitzer_SSDF = False\n",
    "Spitzer_SWIRE = False\n",
    "TwoMass = True\n",
    "UHS = False                      # DR1 data public since 01/08/2018\n",
    "UKIDSS = False\n",
    "VISTA = False"
   ]
  },
  {
   "cell_type": "markdown",
   "metadata": {},
   "source": [
    "## <font color=red>Cutouts</font>"
   ]
  },
  {
   "cell_type": "markdown",
   "metadata": {},
   "source": [
    "### <font color=purple>2MASS</font>"
   ]
  },
  {
   "cell_type": "code",
   "execution_count": 26,
   "metadata": {},
   "outputs": [
    {
     "name": "stdout",
     "output_type": "stream",
     "text": [
      "2MASS cutout(s), band(s): JHK\n",
      "J-band\n",
      "   Get the url of the fits file ...\n",
      "Downloading https://irsa.ipac.caltech.edu/ibe/search/twomass/allsky/allsky?POS=191.933512,28.07124 [Done]\n",
      "    https://irsa.ipac.caltech.edu/ibe/data/twomass/allsky/allsky/990510n/s016/image/ji0160091.fits.gz?center=191.933512,28.071240&size=20arcsec\n",
      "   Try to read the fits file ...\n",
      "     fits file available\n",
      "Downloading https://irsa.ipac.caltech.edu/ibe/data/twomass/allsky/allsky/990510n/s016/image/ji0160091.fits.gz?center=191.933512,28.071240&size=20arcsec [Done]\n",
      "   Plot the cutout ...\n",
      "H-band\n",
      "   Get the url of the fits file ...\n",
      "Downloading https://irsa.ipac.caltech.edu/ibe/search/twomass/allsky/allsky?POS=191.933512,28.07124 [Done]\n",
      "    https://irsa.ipac.caltech.edu/ibe/data/twomass/allsky/allsky/990510n/s016/image/hi0160091.fits.gz?center=191.933512,28.071240&size=20arcsec\n",
      "   Try to read the fits file ...\n",
      "     fits file available\n",
      "Downloading https://irsa.ipac.caltech.edu/ibe/data/twomass/allsky/allsky/990510n/s016/image/hi0160091.fits.gz?center=191.933512,28.071240&size=20arcsec [Done]\n",
      "   Plot the cutout ...\n",
      "K-band\n",
      "   Get the url of the fits file ...\n",
      "Downloading https://irsa.ipac.caltech.edu/ibe/search/twomass/allsky/allsky?POS=191.933512,28.07124 [Done]\n",
      "    https://irsa.ipac.caltech.edu/ibe/data/twomass/allsky/allsky/990510n/s016/image/ki0160091.fits.gz?center=191.933512,28.071240&size=20arcsec\n",
      "   Try to read the fits file ...\n",
      "     fits file available\n",
      "Downloading https://irsa.ipac.caltech.edu/ibe/data/twomass/allsky/allsky/990510n/s016/image/ki0160091.fits.gz?center=191.933512,28.071240&size=20arcsec [Done]\n",
      "   Plot the cutout ...\n",
      " Return the figure\n"
     ]
    },
    {
     "data": {
      "image/png": "[encoded data removed]",
      "text/plain": [
       "<Figure size 576x288 with 3 Axes>"
      ]
     },
     "metadata": {},
     "output_type": "display_data"
    }
   ],
   "source": [
    "if TwoMass:\n",
    "    ## Filters\n",
    "    bands = ['J','H','K']\n",
    "\n",
    "    ## Optional parameters\n",
    "    psfmags = None\n",
    "    imDir, input_filename = \"2mass/\", []\n",
    "    getFullIm = False\n",
    "\n",
    "    \n",
    "    \n",
    "    ## Cutouts\n",
    "    for i in range(len(ra)):\n",
    "        out = ctts.cutout_twomass(ra[i], dec[i], bands=bands, psfmags=psfmags,\\\n",
    "                                  imDir=imDir, input_filename=input_filename, getFullIm=getFullIm, saveFITS=saveFITS,\\\n",
    "                                  width_as=width_as, smooth=smooth, minmax=minmax, origin=origin, figTitle=figTitle,\\\n",
    "                                  return_val=return_val, saveDir=saveDir)\n",
    "        \n",
    "        # Clear astropy cache\n",
    "        clear_download_cache()"
   ]
  },
  {
   "cell_type": "markdown",
   "metadata": {},
   "source": [
    "### <font color=purple>CFHT (MegaPrime & WIRCam)</font>\n",
    "\n",
    "The following surveys in HELP are using CFHT data: AKARI-NEP (MegaPrime & WIRCam), CFHTLenS (MegaPrime), CFHTLS-Deep (MegaPrime), CFHTLS-Wide (MegaPrime), RCSLenS (MegaPrime), SpARCS (MegaPrime, ugrz), UltraDeep-Ks-GOODS-N (WIRCam K), VICS82 (WIRCam, JK), VIPERS-MLS (MegaPrime & WIRCAM), WIRDS (WIRCam). <br>\n",
    "\n",
    "**_CFHT (MegaPrime) parameters_**:<br>\n",
    "-  __optFiltersGen__: version of the MegaPrime filters (1stGen, 3rdGen or both)"
   ]
  },
  {
   "cell_type": "code",
   "execution_count": 7,
   "metadata": {},
   "outputs": [],
   "source": [
    "if CFHT_MegaPrime:\n",
    "    ## Filters & Instrument\n",
    "    bands = [\"u\", \"g\", \"r\", \"i\", \"z\"]\n",
    "    instrument = \"MegaPrime\"\n",
    "    \n",
    "    ## CFHT parameters\n",
    "    optFiltersGen = \"both\"\n",
    "    \n",
    "    ## Optional parameters\n",
    "    psfmags = None\n",
    "    imDir, input_filename = \"cfht/\",\n",
    "\n",
    "    \n",
    "    \n",
    "    ## Cutouts\n",
    "    for i in range(len(ra)):\n",
    "        out = ctts.cutout_cfht(ra[i], dec[i], bands=bands, instrument=instrument, optFiltersGen=optFiltersGen,psfmags=psfmags,\\\n",
    "                               imDir=imDir, input_filename=input_filename, getFullIm=getFullIm, saveFITS=saveFITS,\\\n",
    "                               width_as=width_as, smooth=smooth, cmap=cmap, minmax=minmax, origin=origin,\\\n",
    "                               figTitle=figTitle, return_val=return_val, saveDir=saveDir) \n",
    "        \n",
    "        # Clear astropy cache\n",
    "        clear_download_cache()"
   ]
  },
  {
   "cell_type": "code",
   "execution_count": 8,
   "metadata": {},
   "outputs": [],
   "source": [
    "if CFHT_WIRCam:\n",
    "    ## Filters & Instrument\n",
    "    bands = [\"Y\", \"J\", \"H\", \"K\"]\n",
    "    instrument = \"WIRCam\"\n",
    "    \n",
    "    ## Optional parameters\n",
    "    psfmags = None\n",
    "    imDir, input_filename = \"cfht/\", []\n",
    "    getFullIm = False\n",
    "\n",
    "    \n",
    "    \n",
    "    ## Cutouts\n",
    "    for i in range(len(ra)):\n",
    "        out = ctts.cutout_cfht(ra[i], dec[i], bands=bands, instrument=instrument, optFiltersGen=optFiltersGen,psfmags=psfmags,\\\n",
    "                               imDir=imDir, input_filename=input_filename, getFullIm=getFullIm, saveFITS=saveFITS,\\\n",
    "                               width_as=width_as, smooth=smooth, cmap=cmap, minmax=minmax, origin=origin,\\\n",
    "                               figTitle=figTitle, return_val=return_val, saveDir=saveDir) \n",
    "        \n",
    "        # Clear astropy cache\n",
    "        clear_download_cache()"
   ]
  },
  {
   "cell_type": "markdown",
   "metadata": {},
   "source": [
    "### <font color=purple>DECaLS</font>\n",
    "\n",
    "**_DECaLS parameters_**:<br>\n",
    "-  __dr__: DECaLS data release\n",
    "- __brickid__: brickid of the DECaLS observation (if known, else None)"
   ]
  },
  {
   "cell_type": "code",
   "execution_count": 9,
   "metadata": {},
   "outputs": [],
   "source": [
    "if DECaLS:\n",
    "    ## Filters \n",
    "    bands = [\"g\", \"r\", \"z\"]\n",
    "    \n",
    "    ## DECaLS parameters:\n",
    "    dr = 5\n",
    "    brickid = None\n",
    "    \n",
    "    ## Optional parameters\n",
    "    psfmags = None\n",
    "    imDir = \"decals/\"\n",
    "    getFullIm = False\n",
    "\n",
    "    \n",
    "    \n",
    "    ## Cutouts\n",
    "    for i in range(len(ra)):\n",
    "        out = ctts.cutout_decals(ra[i], dec[i], bands=bands, dr=dr, psfmags=psfmags, brickid=brickid,\\\n",
    "                                 getFullIm=getFullIm, imDir=imDir, saveFITS=saveFITS,\\\n",
    "                                 width_as=width_as, smooth=smooth, cmap=cmap, minmax=minmax, origin=origin,\\\n",
    "                                 figTitle=figTitle, return_val=return_val, saveDir=saveDir)\n",
    "        \n",
    "        # Clear astropy cache\n",
    "        clear_download_cache()"
   ]
  },
  {
   "cell_type": "markdown",
   "metadata": {},
   "source": [
    "### <font color=purple>DES</font>\n",
    "\n",
    "Need python pyvo module.<br>\n",
    "\n",
    "**_DES parameters_**:<br>\n",
    "-  __dr__: DES data release"
   ]
  },
  {
   "cell_type": "code",
   "execution_count": 10,
   "metadata": {},
   "outputs": [],
   "source": [
    "if DES:\n",
    "    ## Filters \n",
    "    bands = [\"g\", \"r\", \"i\", \"z\", \"y\"]\n",
    "    \n",
    "    ## DES parameters:\n",
    "    dr = 1\n",
    "    \n",
    "    ## Optional parameters\n",
    "    psfmags = None\n",
    "    imDir, input_filename = \"des/\", []\n",
    "\n",
    "    \n",
    "    \n",
    "    ## Cutouts\n",
    "    for i in range(len(ra)):\n",
    "        out = ctts.cutout_des(ra[i], dec[i], bands=bands, dr=dr, psfmags=psfmags,\\\n",
    "                                 imDir=imDir, input_filename=input_filename, saveFITS=saveFITS,\\\n",
    "                                 width_as=width_as, smooth=smooth, cmap=cmap, minmax=minmax, origin=origin,\\\n",
    "                                 figTitle=figTitle, return_val=return_val, saveDir=saveDir)\n",
    "        \n",
    "        # Clear astropy cache\n",
    "        clear_download_cache()"
   ]
  },
  {
   "cell_type": "markdown",
   "metadata": {},
   "source": [
    "### <font color=purple>FLS-KPNO</font>"
   ]
  },
  {
   "cell_type": "code",
   "execution_count": 11,
   "metadata": {},
   "outputs": [],
   "source": [
    "if FLS_KPNO:\n",
    "    ## Optional parameters\n",
    "    psfmags = None\n",
    "    imDir, input_filename = \"fls-kpno/\", []\n",
    "\n",
    "    \n",
    "    \n",
    "    ## Cutouts\n",
    "    for i in range(len(ra)):\n",
    "        out = ctts.cutout_flsKPNO(ra[i], dec[i], bands=[\"R\"], psfmags=psfmags,\\\n",
    "                                  imDir=imDir, input_filename=input_filename, saveFITS=saveFITS,\\\n",
    "                                  width_as=width_as, smooth=smooth, cmap=cmap, minmax=minmax, origin=origin,\\\n",
    "                                  figTitle=figTitle, return_val=return_val, saveDir=saveDir)\n",
    "        \n",
    "        # Clear astropy cache\n",
    "        clear_download_cache()"
   ]
  },
  {
   "cell_type": "markdown",
   "metadata": {},
   "source": [
    "### <font color=purple>Hawaii Hubble Deep Field North (HDF-N)</font>\n",
    "\n",
    "Need python astroquery.skyview module"
   ]
  },
  {
   "cell_type": "code",
   "execution_count": 12,
   "metadata": {},
   "outputs": [],
   "source": [
    "if HDFN:\n",
    "    ## Filters\n",
    "    bands = [\"U\",\"B\",\"V\",\"R\",\"I\",\"z\",\"HK\"]\n",
    "    \n",
    "    ## Optional parameters\n",
    "    psfmags = None\n",
    "    imDir, input_filename = \"hdfn/\", []\n",
    "    getFullIm = False\n",
    "\n",
    "    \n",
    "    \n",
    "    ## Cutouts\n",
    "    for i in range(len(ra)):\n",
    "        out = ctts.cutout_hdfn(ra[i], dec[i], bands=bands, psfmags=psfmags,\\\n",
    "                               imDir=imDir, saveFITS=saveFITS, getFullIm=getFullIm,\\\n",
    "                               width_as=width_as, smooth=smooth, cmap=cmap, minmax=minmax, origin=origin,\\\n",
    "                               figTitle=figTitle, return_val=return_val, saveDir=saveDir)       \n",
    "        \n",
    "        # Clear astropy cache\n",
    "        clear_download_cache()"
   ]
  },
  {
   "cell_type": "markdown",
   "metadata": {},
   "source": [
    "### <font color=purple>Hyper Suprime-Cam (HSC) [ACCOUNT REQUIRED]</font> \n",
    "\n",
    "An account is required to access public data. To create an account see:<br>\n",
    "https://hsc-release.mtk.nao.ac.jp/doc/index.php/tools/"
   ]
  },
  {
   "cell_type": "code",
   "execution_count": 13,
   "metadata": {},
   "outputs": [],
   "source": [
    "if HSC:\n",
    "    ## Login [ID, password]\n",
    "    login = []\n",
    "    \n",
    "    ## Filters\n",
    "    bands = [\"g\",\"r\",\"i\",\"z\",\"y\",\"N816\",\"N921\"]\n",
    "    \n",
    "    ## Optional parameters\n",
    "    psfmags = None\n",
    "    imDir, input_filename = \"hsc/\", []\n",
    "\n",
    "    \n",
    "    \n",
    "    ## Cutouts\n",
    "    for i in range(len(ra)):\n",
    "        out = ctts.cutout_hsc(ra[i], dec[i], bands=bands, login=login,\\\n",
    "                              psfmags=psfmags, imDir=imDir, input_filename=input_filename, saveFITS=saveFITS,\\\n",
    "                              width_as=width_as, smooth=smooth, cmap=cmap, minmax=minmax, origin=origin,\\\n",
    "                              figTitle=figTitle, return_val=return_val, saveDir=saveDir)\n",
    "           \n",
    "        # Clear astropy cache\n",
    "        clear_download_cache()"
   ]
  },
  {
   "cell_type": "markdown",
   "metadata": {},
   "source": [
    "### <font color=purple>HST (ACS & WFC3)</font> \n"
   ]
  },
  {
   "cell_type": "code",
   "execution_count": 14,
   "metadata": {},
   "outputs": [],
   "source": [
    "if HST_ACS:\n",
    "    ## Filters & instrument\n",
    "    bands = [\"F435W\",\"F606W\",\"F775W\",\"F814W\",\"F850LP\"]\n",
    "    instrument = \"ACS\"\n",
    "    \n",
    "    ## Optional parameters\n",
    "    psfmags = None\n",
    "    imDir, input_filename = \"hst/\", []\n",
    "\n",
    "    \n",
    "    \n",
    "    ## Cutouts\n",
    "    for i in range(len(ra)):\n",
    "        out = ctts.cutout_hst(ra[i], dec[i], bands=bands, instrument=instrument, psfmags=psfmags,\\\n",
    "                              imDir=imDir, input_filename=input_filename, saveFITS=saveFITS,\\\n",
    "                              width_as=width_as, smooth=smooth, cmap=cmap, minmax=minmax, origin=origin,\\\n",
    "                              figTitle=figTitle, return_val=return_val, saveDir=saveDir)\n",
    "           \n",
    "        # Clear astropy cache\n",
    "        clear_download_cache()"
   ]
  },
  {
   "cell_type": "code",
   "execution_count": 15,
   "metadata": {},
   "outputs": [],
   "source": [
    "if HST_WFC3:\n",
    "    ## Filters & instrument\n",
    "    bands = [\"F105W\",\"F125W\",\"F140W\",\"F160W\",\"F098M\"]\n",
    "    instrument = \"WFC3\"\n",
    "    \n",
    "    ## Optional parameters\n",
    "    psfmags = None\n",
    "    imDir, input_filename = \"hst/\", []\n",
    "\n",
    "    \n",
    "    \n",
    "    ## Cutouts\n",
    "    for i in range(len(ra)):\n",
    "        out = ctts.cutout_hst(ra[i], dec[i], bands=bands, instrument=instrument, psfmags=psfmags,\\\n",
    "                              imDir=imDir, input_filename=input_filename, saveFITS=saveFITS,\\\n",
    "                              width_as=width_as, smooth=smooth, cmap=cmap, minmax=minmax, origin=origin,\\\n",
    "                              figTitle=figTitle, return_val=return_val, saveDir=saveDir)\n",
    "           \n",
    "        # Clear astropy cache\n",
    "        clear_download_cache()"
   ]
  },
  {
   "cell_type": "markdown",
   "metadata": {},
   "source": [
    "### <font color=purple>Legacy Survey (BASS gr-bands & MzLS z-band)</font> \n",
    "\n",
    "**_Legacy Survey parameters_**:<br>\n",
    "-  __dr__: Legacy Survey data release"
   ]
  },
  {
   "cell_type": "code",
   "execution_count": 16,
   "metadata": {},
   "outputs": [],
   "source": [
    "if LegacySurvey:\n",
    "    ## Filters \n",
    "    bands = [\"g\",\"r\",\"z\"]\n",
    "    \n",
    "    ## Legacy Survey parameters\n",
    "    dr = 6\n",
    "\n",
    "    ## Optional parameters\n",
    "    psfmags = None\n",
    "    imDir, input_filename = \"legacysurvey/\", []\n",
    "\n",
    "    \n",
    "    \n",
    "    ## Cutouts\n",
    "    for i in range(len(ra)):\n",
    "        out = ctts.cutout_legacySurvey(ra[i], dec[i], bands=bands, dr=dr, psfmags=psfmags,\\\n",
    "                                       imDir=imDir, input_filename=input_filename, saveFITS=saveFITS,\\\n",
    "                                       width_as=width_as, smooth=smooth, cmap=cmap, minmax=minmax, origin=origin,\\\n",
    "                                       figTitle=figTitle, return_val=return_val, saveDir=saveDir)\n",
    "           \n",
    "        # Clear astropy cache\n",
    "        clear_download_cache()"
   ]
  },
  {
   "cell_type": "markdown",
   "metadata": {},
   "source": [
    "### <font color=purple>The NOAO Deep Wide-Field Survey (NDWFS)</font> "
   ]
  },
  {
   "cell_type": "code",
   "execution_count": 17,
   "metadata": {},
   "outputs": [],
   "source": [
    "if NDWFS:\n",
    "    ## Filters \n",
    "    bands = ['Bw','R','I','K']\n",
    "\n",
    "    ## Optional parameters\n",
    "    psfmags = None\n",
    "    imDir, input_filename = \"ndwfs/\", []\n",
    "\n",
    "    \n",
    "    \n",
    "    ## Cutouts\n",
    "    for i in range(len(ra)):\n",
    "        out = ctts.cutout_ndwfs(ra[i], dec[i], bands=bands, psfmags=psfmags,\\\n",
    "                                imDir=imDir, input_filename=input_filename, saveFITS=saveFITS,\\\n",
    "                                width_as=width_as, smooth=smooth, cmap=cmap, minmax=minmax, origin=origin,\\\n",
    "                                figTitle=figTitle, return_val=return_val, saveDir=saveDir)\n",
    "           \n",
    "        # Clear astropy cache\n",
    "        clear_download_cache()"
   ]
  },
  {
   "cell_type": "markdown",
   "metadata": {},
   "source": [
    "### <font color=purple>Pan-STARRS</font> "
   ]
  },
  {
   "cell_type": "code",
   "execution_count": 18,
   "metadata": {},
   "outputs": [],
   "source": [
    "if PanSTARRS:\n",
    "    ## Filters \n",
    "    bands = [\"g\",\"r\",\"i\",\"z\",\"y\"]\n",
    "\n",
    "    ## Optional parameters\n",
    "    psfmags = None\n",
    "    imDir = \"ps1/\"\n",
    "    getFullIm = False\n",
    "\n",
    "    \n",
    "    \n",
    "    ## Cutouts\n",
    "    for i in range(len(ra)):\n",
    "        out = ctts.cutout_ps1(ra[i], dec[i], bands=bands, psfmags=psfmags, \n",
    "                              imDir=imDir, getFullIm=getFullIm, saveFITS=saveFITS,\\\n",
    "                              width_as=width_as, smooth=smooth, cmap=cmap, minmax=minmax, origin=origin,\\\n",
    "                              figTitle=figTitle, return_val=return_val, saveDir=saveDir)\n",
    "           \n",
    "        # Clear astropy cache\n",
    "        clear_download_cache()"
   ]
  },
  {
   "cell_type": "markdown",
   "metadata": {},
   "source": [
    "### <font color=purple>SDSS</font> \n",
    "\n",
    "**_SDSS parameters_**:<br>\n",
    "-  __dr__: SDSS data release\n",
    "-  __objid__: SDSS objid (if known, else None)"
   ]
  },
  {
   "cell_type": "code",
   "execution_count": 19,
   "metadata": {},
   "outputs": [],
   "source": [
    "if SDSS:\n",
    "    ## Filters \n",
    "    bands = ['u','g','r','i','z']\n",
    "    \n",
    "    ## SDSS parameters\n",
    "    dr = 12\n",
    "    objid = None\n",
    "    \n",
    "    ## Optional parameters\n",
    "    psfmags = None\n",
    "    imDir, input_filename = \"sdss/\", []\n",
    "\n",
    "    \n",
    "    \n",
    "    ## Cutouts\n",
    "    for i in range(len(ra)):\n",
    "        out = ctts.cutout_sdss(ra[i], dec[i], bands=bands, objid=objid, psfmags=psfmags,\\\n",
    "                               imDir=imDir, input_filename=input_filename, saveFITS=saveFITS,\\\n",
    "                               width_as=width_as, smooth=smooth, cmap=cmap, minmax=minmax, origin=origin,\\\n",
    "                               figTitle=figTitle, return_val=return_val, saveDir=saveDir)\n",
    "           \n",
    "        # Clear astropy cache\n",
    "        clear_download_cache()"
   ]
  },
  {
   "cell_type": "markdown",
   "metadata": {},
   "source": [
    "### <font color=purple>Spitzer</font> "
   ]
  },
  {
   "cell_type": "markdown",
   "metadata": {},
   "source": [
    "__Spitzer First Look Survey (FLS)__<br>\n",
    "https://irsa.ipac.caltech.edu/data/SPITZER/FLS/"
   ]
  },
  {
   "cell_type": "code",
   "execution_count": 20,
   "metadata": {},
   "outputs": [],
   "source": [
    "if Spitzer_FLS:\n",
    "    ## Filters & dataset\n",
    "    bands = ['I1', 'I2', 'I3', 'I4']\n",
    "    dataset = \"FLS\"\n",
    "    \n",
    "    ## Optional parameters\n",
    "    psfmags = None\n",
    "    imDir, input_filename = \"spitzer/\", []\n",
    "\n",
    "    \n",
    "    \n",
    "    ## Cutouts\n",
    "    for i in range(len(ra)):\n",
    "        out = ctts.cutout_spitzer(ra[i], dec[i], bands=bands, dataset=dataset, psfmags=psfmags,\\\n",
    "                                  imDir=imDir, input_filename=input_filename, saveFITS=saveFITS,\\\n",
    "                                  width_as=width_as, smooth=smooth, cmap=cmap, minmax=minmax, origin=origin,\\\n",
    "                                  figTitle=figTitle, return_val=return_val, saveDir=saveDir)\n",
    "           \n",
    "        # Clear astropy cache\n",
    "        clear_download_cache()"
   ]
  },
  {
   "cell_type": "markdown",
   "metadata": {},
   "source": [
    "__Spitzer Great Observatories Origins Deep Survey (GOODS)__<br>\n",
    "https://irsa.ipac.caltech.edu/data/SPITZER/GOODS/"
   ]
  },
  {
   "cell_type": "code",
   "execution_count": 21,
   "metadata": {},
   "outputs": [],
   "source": [
    "if Spitzer_GOODS:\n",
    "    ## Filters & dataset\n",
    "    bands = ['I1', 'I2', 'I3', 'I4']\n",
    "    dataset = \"GOODS\"\n",
    "    \n",
    "    ## Optional parameters\n",
    "    psfmags = None\n",
    "    imDir, input_filename = \"spitzer/\", []\n",
    "\n",
    "    \n",
    "    \n",
    "    ## Cutouts\n",
    "    for i in range(len(ra)):\n",
    "        out = ctts.cutout_spitzer(ra[i], dec[i], bands=bands, dataset=dataset, psfmags=psfmags,\\\n",
    "                                  imDir=imDir, input_filename=input_filename, saveFITS=saveFITS,\\\n",
    "                                  width_as=width_as, smooth=smooth, cmap=cmap, minmax=minmax, origin=origin,\\\n",
    "                                  figTitle=figTitle, return_val=return_val, saveDir=saveDir)\n",
    "           \n",
    "        # Clear astropy cache\n",
    "        clear_download_cache()"
   ]
  },
  {
   "cell_type": "markdown",
   "metadata": {},
   "source": [
    "__Spitzer Deep, Wide-Field Survey (SDWFS)__<br>\n",
    "https://irsa.ipac.caltech.edu/data/SPITZER/SDWFS/"
   ]
  },
  {
   "cell_type": "code",
   "execution_count": 22,
   "metadata": {},
   "outputs": [],
   "source": [
    "if Spitzer_SDWFS:\n",
    "    ## Filters & dataset\n",
    "    bands = ['I1', 'I2', 'I3', 'I4']\n",
    "    dataset = \"SDWFS\"\n",
    "    \n",
    "    ## Optional parameters\n",
    "    psfmags = None\n",
    "    imDir, input_filename = \"spitzer/\", []\n",
    "\n",
    "    \n",
    "    \n",
    "    ## Cutouts\n",
    "    for i in range(len(ra)):\n",
    "        out = ctts.cutout_spitzer(ra[i], dec[i], bands=bands, dataset=dataset, psfmags=psfmags,\\\n",
    "                                  imDir=imDir, input_filename=input_filename, saveFITS=saveFITS,\\\n",
    "                                  width_as=width_as, smooth=smooth, cmap=cmap, minmax=minmax, origin=origin,\\\n",
    "                                  figTitle=figTitle, return_val=return_val, saveDir=saveDir)\n",
    "           \n",
    "        # Clear astropy cache\n",
    "        clear_download_cache()"
   ]
  },
  {
   "cell_type": "markdown",
   "metadata": {},
   "source": [
    "__Spitzer Extragalactic Representative Volume Survey (SERVS)__<br>\n",
    "https://irsa.ipac.caltech.edu/data/SPITZER/SERVS/"
   ]
  },
  {
   "cell_type": "code",
   "execution_count": 23,
   "metadata": {},
   "outputs": [],
   "source": [
    "if Spitzer_SERVS:\n",
    "    ## Filters & dataset\n",
    "    bands = ['I1', 'I2']\n",
    "    dataset = \"SERVS\"\n",
    "    \n",
    "    ## Optional parameters\n",
    "    psfmags = None\n",
    "    imDir, input_filename = \"spitzer/\", []\n",
    "\n",
    "    \n",
    "    \n",
    "    ## Cutouts\n",
    "    for i in range(len(ra)):\n",
    "        out = ctts.cutout_spitzer(ra[i], dec[i], bands=bands, dataset=dataset, psfmags=psfmags,\\\n",
    "                                  imDir=imDir, input_filename=input_filename, saveFITS=saveFITS,\\\n",
    "                                  width_as=width_as, smooth=smooth, cmap=cmap, minmax=minmax, origin=origin,\\\n",
    "                                  figTitle=figTitle, return_val=return_val, saveDir=saveDir)\n",
    "           \n",
    "        # Clear astropy cache\n",
    "        clear_download_cache()"
   ]
  },
  {
   "cell_type": "markdown",
   "metadata": {},
   "source": [
    "__Spitzer Enhanced Imaging Products (SEIP)__<br>\n",
    "Includes Super Mosaics images by combining data from multiple programs/datasets<br>\n",
    "https://irsa.ipac.caltech.edu/data/SPITZER/Enhanced/SEIP/overview.html"
   ]
  },
  {
   "cell_type": "code",
   "execution_count": 24,
   "metadata": {},
   "outputs": [
    {
     "ename": "NameError",
     "evalue": "name 'Spitzer_SEIPS' is not defined",
     "output_type": "error",
     "traceback": [
      "\u001b[0;31m---------------------------------------------------------------------------\u001b[0m",
      "\u001b[0;31mNameError\u001b[0m                                 Traceback (most recent call last)",
      "\u001b[0;32m<ipython-input-24-b18449696e53>\u001b[0m in \u001b[0;36m<module>\u001b[0;34m()\u001b[0m\n\u001b[0;32m----> 1\u001b[0;31m \u001b[0;32mif\u001b[0m \u001b[0mSpitzer_SEIPS\u001b[0m\u001b[0;34m:\u001b[0m\u001b[0;34m\u001b[0m\u001b[0m\n\u001b[0m\u001b[1;32m      2\u001b[0m     \u001b[0;31m## Filters & dataset\u001b[0m\u001b[0;34m\u001b[0m\u001b[0;34m\u001b[0m\u001b[0m\n\u001b[1;32m      3\u001b[0m     \u001b[0mbands\u001b[0m \u001b[0;34m=\u001b[0m \u001b[0;34m[\u001b[0m\u001b[0;34m'I1'\u001b[0m\u001b[0;34m,\u001b[0m \u001b[0;34m'I2'\u001b[0m\u001b[0;34m,\u001b[0m \u001b[0;34m'I3'\u001b[0m\u001b[0;34m,\u001b[0m \u001b[0;34m'I4'\u001b[0m\u001b[0;34m]\u001b[0m\u001b[0;34m\u001b[0m\u001b[0m\n\u001b[1;32m      4\u001b[0m     \u001b[0mdataset\u001b[0m \u001b[0;34m=\u001b[0m \u001b[0;34m\"SEIP\"\u001b[0m\u001b[0;34m\u001b[0m\u001b[0m\n\u001b[1;32m      5\u001b[0m \u001b[0;34m\u001b[0m\u001b[0m\n",
      "\u001b[0;31mNameError\u001b[0m: name 'Spitzer_SEIPS' is not defined"
     ]
    }
   ],
   "source": [
    "if Spitzer_SEIPS:\n",
    "    ## Filters & dataset\n",
    "    bands = ['I1', 'I2', 'I3', 'I4']\n",
    "    dataset = \"SEIP\"\n",
    "    \n",
    "    ## Optional parameters\n",
    "    psfmags = None\n",
    "    imDir, input_filename = \"spitzer/\", []\n",
    "\n",
    "    \n",
    "    \n",
    "    ## Cutouts\n",
    "    for i in range(len(ra)):\n",
    "        out = ctts.cutout_spitzer(ra[i], dec[i], bands=bands, dataset=dataset, psfmags=psfmags,\\\n",
    "                                  imDir=imDir, input_filename=input_filename, saveFITS=saveFITS,\\\n",
    "                                  width_as=width_as, smooth=smooth, cmap=cmap, minmax=minmax, origin=origin,\\\n",
    "                                  figTitle=figTitle, return_val=return_val, saveDir=saveDir)\n",
    "           \n",
    "        # Clear astropy cache\n",
    "        clear_download_cache()"
   ]
  },
  {
   "cell_type": "markdown",
   "metadata": {},
   "source": [
    "__Spitzer/HETDEX Exploratory Large-Area (SHELA)__<br>\n",
    "https://irsa.ipac.caltech.edu/data/SPITZER/SHELA/"
   ]
  },
  {
   "cell_type": "code",
   "execution_count": null,
   "metadata": {},
   "outputs": [],
   "source": [
    "if Spitzer_SHELA:\n",
    "    ## Filters & dataset\n",
    "    bands = ['I1', 'I2']\n",
    "    dataset = \"SHELA\"\n",
    "    \n",
    "    ## Optional parameters\n",
    "    psfmags = None\n",
    "    imDir, input_filename = \"spitzer/\", []\n",
    "\n",
    "    \n",
    "    \n",
    "    ## Cutouts\n",
    "    for i in range(len(ra)):\n",
    "        out = ctts.cutout_spitzer(ra[i], dec[i], bands=bands, dataset=dataset, psfmags=psfmags,\\\n",
    "                                  imDir=imDir, input_filename=input_filename, saveFITS=saveFITS,\\\n",
    "                                  width_as=width_as, smooth=smooth, cmap=cmap, minmax=minmax, origin=origin,\\\n",
    "                                  figTitle=figTitle, return_val=return_val, saveDir=saveDir)\n",
    "           \n",
    "        # Clear astropy cache\n",
    "        clear_download_cache()"
   ]
  },
  {
   "cell_type": "markdown",
   "metadata": {},
   "source": [
    "__Spitzer IRAC Equatorial Survey (SpIES)__<br>\n",
    "https://irsa.ipac.caltech.edu/data/SPITZER/SpIES/"
   ]
  },
  {
   "cell_type": "code",
   "execution_count": null,
   "metadata": {},
   "outputs": [],
   "source": [
    "if Spitzer_SpIES:\n",
    "    ## Filters & dataset\n",
    "    bands = ['I1', 'I2']\n",
    "    dataset = \"SpIES\"\n",
    "    \n",
    "    ## Optional parameters\n",
    "    psfmags = None\n",
    "    imDir, input_filename = \"spitzer/\", []\n",
    "\n",
    "    \n",
    "    \n",
    "    ## Cutouts\n",
    "    for i in range(len(ra)):\n",
    "        out = ctts.cutout_spitzer(ra[i], dec[i], bands=bands, dataset=dataset, psfmags=psfmags,\\\n",
    "                                  imDir=imDir, input_filename=input_filename, saveFITS=saveFITS,\\\n",
    "                                  width_as=width_as, smooth=smooth, cmap=cmap, minmax=minmax, origin=origin,\\\n",
    "                                  figTitle=figTitle, return_val=return_val, saveDir=saveDir)\n",
    "           \n",
    "        # Clear astropy cache\n",
    "        clear_download_cache()"
   ]
  },
  {
   "cell_type": "markdown",
   "metadata": {},
   "source": [
    "__Spitzer UKIDSS Ultra Deep Survey (SpUDS)__<br>\n",
    "https://irsa.ipac.caltech.edu/data/SPITZER/SpUDS/"
   ]
  },
  {
   "cell_type": "code",
   "execution_count": null,
   "metadata": {},
   "outputs": [],
   "source": [
    "if Spitzer_SpUDS:\n",
    "    ## Filters & dataset\n",
    "    bands = ['I1', 'I2', 'I3', 'I4']\n",
    "    dataset = \"SpUDS\"\n",
    "    \n",
    "    ## Optional parameters\n",
    "    psfmags = None\n",
    "    imDir, input_filename = \"spitzer/\", []\n",
    "\n",
    "    \n",
    "    \n",
    "    ## Cutouts\n",
    "    for i in range(len(ra)):\n",
    "        out = ctts.cutout_spitzer(ra[i], dec[i], bands=bands, dataset=dataset, psfmags=psfmags,\\\n",
    "                                  imDir=imDir, input_filename=input_filename, saveFITS=saveFITS,\\\n",
    "                                  width_as=width_as, smooth=smooth, cmap=cmap, minmax=minmax, origin=origin,\\\n",
    "                                  figTitle=figTitle, return_val=return_val, saveDir=saveDir)\n",
    "           \n",
    "        # Clear astropy cache\n",
    "        clear_download_cache()"
   ]
  },
  {
   "cell_type": "markdown",
   "metadata": {},
   "source": [
    "__SPT-Spitzer Deep Field (SSDF)__<br>\n",
    "https://irsa.ipac.caltech.edu/data/SPITZER/SSDF/"
   ]
  },
  {
   "cell_type": "code",
   "execution_count": null,
   "metadata": {},
   "outputs": [],
   "source": [
    "if Spitzer_SSDF:\n",
    "    ## Filters & dataset\n",
    "    bands = ['I1', 'I2']\n",
    "    dataset = \"SSDF\"\n",
    "    \n",
    "    ## Optional parameters\n",
    "    psfmags = None\n",
    "    imDir, input_filename = \"spitzer/\", []\n",
    "\n",
    "    \n",
    "    \n",
    "    ## Cutouts\n",
    "    for i in range(len(ra)):\n",
    "        out = ctts.cutout_spitzer(ra[i], dec[i], bands=bands, dataset=dataset, psfmags=psfmags,\\\n",
    "                                  imDir=imDir, input_filename=input_filename, saveFITS=saveFITS,\\\n",
    "                                  width_as=width_as, smooth=smooth, cmap=cmap, minmax=minmax, origin=origin,\\\n",
    "                                  figTitle=figTitle, return_val=return_val, saveDir=saveDir)\n",
    "           \n",
    "        # Clear astropy cache\n",
    "        clear_download_cache()"
   ]
  },
  {
   "cell_type": "markdown",
   "metadata": {},
   "source": [
    "__Spitzer Wide-area InfraRed Extragalactic Survey (SWIRE) __<br>\n",
    "https://irsa.ipac.caltech.edu/data/SPITZER/SWIRE/"
   ]
  },
  {
   "cell_type": "code",
   "execution_count": null,
   "metadata": {},
   "outputs": [],
   "source": [
    "if Spitzer_SWIRE:\n",
    "    ## Filters & dataset\n",
    "    bands = ['I1', 'I2', 'I3', 'I4']\n",
    "    dataset = \"SWIRE\"\n",
    "    \n",
    "    ## Optional parameters\n",
    "    psfmags = None\n",
    "    imDir, input_filename = \"spitzer/\", []\n",
    "\n",
    "    \n",
    "    \n",
    "    ## Cutouts\n",
    "    for i in range(len(ra)):\n",
    "        out = ctts.cutout_spitzer(ra[i], dec[i], bands=bands, dataset=dataset, psfmags=psfmags,\\\n",
    "                                  imDir=imDir, input_filename=input_filename, saveFITS=saveFITS,\\\n",
    "                                  width_as=width_as, smooth=smooth, cmap=cmap, minmax=minmax, origin=origin,\\\n",
    "                                  figTitle=figTitle, return_val=return_val, saveDir=saveDir)\n",
    "           \n",
    "        # Clear astropy cache\n",
    "        clear_download_cache()"
   ]
  },
  {
   "cell_type": "markdown",
   "metadata": {},
   "source": [
    "### <font color=purple>The UKIRT Hemisphere Survey (UHS)</font> \n",
    "\n",
    "**_UHS parameters_**:<br>\n",
    "-  __database__: UHS data release. Only UHSDR1 availalable so far (August 2018)\n",
    "-  __wsaLogin__: UHS login details to access proprietary data ([username, password])\n",
    "\n"
   ]
  },
  {
   "cell_type": "code",
   "execution_count": null,
   "metadata": {},
   "outputs": [],
   "source": [
    "if UHS:\n",
    "    ## UHS parameters\n",
    "    database = \"UHSDR1\"\n",
    "    wsaLogin = []\n",
    "    \n",
    "    ## Optional parameters\n",
    "    psfmags = None\n",
    "    imDir, input_filename = \"uhs/\", []\n",
    "\n",
    "    \n",
    "    \n",
    "    ## Cutouts\n",
    "    for i in range(len(ra)):\n",
    "        out = ctts.cutout_uhs(ra[i], dec[i], bands=['J'], database=database, wsaLogin=wsaLogin,\\\n",
    "                              psfmags=psfmags, imDir=imDir, input_filename=input_filename, saveFITS=saveFITS,\\\n",
    "                              width_as=width_as, smooth=smooth, cmap=cmap, minmax=minmax, origin=origin,\\\n",
    "                              figTitle=figTitle, return_val=return_val, saveDir=saveDir)\n",
    "           \n",
    "        # Clear astropy cache\n",
    "        clear_download_cache()"
   ]
  },
  {
   "cell_type": "markdown",
   "metadata": {},
   "source": [
    "### <font color=purple>The UKIRT InfraRed Deep Sky Surveys (UKIDSS)</font> \n",
    "\n",
    "Includes five surveys: <font color=purple> Large Area Survey (LAS), Galactic Plane Survey (GPS), Galactic Clusters Survey (GCS), Deep Extragalactic Survey (DXS) and the Ultra Deep Survey (UDS). </font><br>\n",
    "\n",
    "**_UKIDSS parameters_**:<br>\n",
    "-  __database__: UKIDSS data release\n",
    "-  __programme__: UKIDSS survey name (i.e DXS, GCS, GPS, LAS, UDS)\n",
    "-  __wsaLogin__: UKIDSS login details to access proprietary data ([username, password, community])<br>\n",
    "<br>\n",
    "Need python astroquery.ukidss module"
   ]
  },
  {
   "cell_type": "code",
   "execution_count": null,
   "metadata": {},
   "outputs": [],
   "source": [
    "if UKIDSS:\n",
    "    ## Filters \n",
    "    bands = ['Z','Y','J','H','K']\n",
    "    \n",
    "    ## UKIDSS parameters\n",
    "    database = \"UKIDSSDR10PLUS\"\n",
    "    programme = \"LAS\"              # also available: DXS, GCS, GPS, UDS\n",
    "    wsaLogin = []\n",
    "    \n",
    "    ## Optional parameters\n",
    "    psfmags = None\n",
    "    imDir, input_filename = \"ukidss/\", []\n",
    "\n",
    "    \n",
    "    \n",
    "    ## Cutouts\n",
    "    for i in range(len(ra)):\n",
    "        out = ctts.cutout_ukidss(ra[i], dec[i], bands=bands, programme=programme, database=database, wsaLogin=wsaLogin,\\\n",
    "                                 psfmags=psfmags, imDir=imDir, input_filename=input_filename, saveFITS=saveFITS,\\\n",
    "                                 width_as=width_as, smooth=smooth, cmap=cmap, minmax=minmax, origin=origin,\\\n",
    "                                 figTitle=figTitle, return_val=return_val, saveDir=saveDir)\n",
    "           \n",
    "        # Clear astropy cache\n",
    "        clear_download_cache()"
   ]
  },
  {
   "cell_type": "markdown",
   "metadata": {},
   "source": [
    "### <font color=purple>The Visible and Infrared Survey Telescope for Astronomy (VISTA)</font> \n",
    "\n",
    "Includes several surveys, the full list is available here: http://horus.roe.ac.uk:8080/vdfs/VgetImage_form.jsp<br>\n",
    "Three of them are used in HELP: <font color=purple> the VISTA Hemisphere Survey (VHS),the VISTA Kilo-degree Infrared Galaxy survey (VIKING) and the VISTA Deep Extragalactic Observations (VIDEO).</font><br>\n",
    "\n",
    "**_VISTA parameters_**:<br>\n",
    "-  __database__: VISTA data release\n",
    "-  __survey__: VISTA survey name (as listed in http://horus.roe.ac.uk:8080/vdfs/VgetImage_form.jsp)\n",
    "-  __wsaLogin__: VISTA login details to access proprietary data ([username, password, community])"
   ]
  },
  {
   "cell_type": "code",
   "execution_count": null,
   "metadata": {},
   "outputs": [],
   "source": [
    "if VISTA:\n",
    "    ## Filters \n",
    "    bands = [\"Z\",\"Y\",\"J\",\"H\",\"K\"]\n",
    "    \n",
    "    ## VISTA parameters\n",
    "    database = \"VHSDR5\"\n",
    "    survey = \"VHS\"              \n",
    "    wsaLogin = []\n",
    "    \n",
    "    ## Optional parameters\n",
    "    psfmags = None\n",
    "    imDir, input_filename = \"vista/\", []\n",
    "\n",
    "    \n",
    "    \n",
    "    ## Cutouts\n",
    "    for i in range(len(ra)):\n",
    "        out = ctts.cutout_vista(ra[i], dec[i], bands=bands, survey=survey, database=database, wsaLogin=wsaLogin,\\\n",
    "                                 psfmags=psfmags, imDir=imDir, input_filename=input_filename, saveFITS=saveFITS,\\\n",
    "                                 width_as=width_as, smooth=smooth, cmap=cmap, minmax=minmax, origin=origin,\\\n",
    "                                 figTitle=figTitle, return_val=return_val, saveDir=saveDir)\n",
    "           \n",
    "        # Clear astropy cache\n",
    "        clear_download_cache()"
   ]
  }
 ],
 "metadata": {
  "anaconda-cloud": {},
  "kernelspec": {
   "display_name": "Python (herschelhelp_internal)",
   "language": "python",
   "name": "helpint"
  },
  "language_info": {
   "codemirror_mode": {
    "name": "ipython",
    "version": 3
   },
   "file_extension": ".py",
   "mimetype": "text/x-python",
   "name": "python",
   "nbconvert_exporter": "python",
   "pygments_lexer": "ipython3",
   "version": "3.6.5"
  }
 },
 "nbformat": 4,
 "nbformat_minor": 1
}
