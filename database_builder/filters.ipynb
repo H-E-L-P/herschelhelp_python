{
 "cells": [
  {
   "cell_type": "markdown",
   "metadata": {},
   "source": [
    "This notebook is converts filters in non votable form to votable format."
   ]
  },
  {
   "cell_type": "code",
   "execution_count": 1,
   "metadata": {},
   "outputs": [
    {
     "name": "stdout",
     "output_type": "stream",
     "text": [
      "This notebook was run with herschelhelp_internal version: \n",
      "284b2ef (Mon Aug 14 20:02:12 2017 +0100)\n"
     ]
    }
   ],
   "source": [
    "from herschelhelp_internal import git_version\n",
    "print(\"This notebook was run with herschelhelp_internal version: \\n{}\".format(git_version()))"
   ]
  },
  {
   "cell_type": "code",
   "execution_count": 2,
   "metadata": {},
   "outputs": [
    {
     "name": "stderr",
     "output_type": "stream",
     "text": [
      "/Users/rs548/anaconda/envs/herschelhelp_internal/lib/python3.6/site-packages/seaborn/apionly.py:6: UserWarning: As seaborn no longer sets a default style on import, the seaborn.apionly module is deprecated. It will be removed in a future version.\n",
      "  warnings.warn(msg, UserWarning)\n"
     ]
    }
   ],
   "source": [
    "%matplotlib inline\n",
    "#%config InlineBackend.figure_format = 'svg'\n",
    "\n",
    "import matplotlib.pyplot as plt\n",
    "plt.rc('figure', figsize=(10, 6))\n",
    "\n",
    "import seaborn.apionly as sns\n",
    "\n",
    "from collections import OrderedDict\n",
    "import os\n",
    "\n",
    "from astropy import units as u\n",
    "from astropy.coordinates import SkyCoord\n",
    "from astropy.table import Column, Table\n",
    "import numpy as np\n",
    "\n",
    "from herschelhelp_internal.flagging import  gaia_flag_column\n",
    "from herschelhelp_internal.masterlist import nb_astcor_diag_plot, remove_duplicates\n",
    "from herschelhelp_internal.utils import astrometric_correction, mag_to_flux\n",
    "\n",
    "from astropy.io.votable import parse\n",
    "from astropy.io.votable import parse_single_table\n",
    "from astropy.io import ascii\n",
    "from astropy.io.votable.tree import VOTableFile, Resource, Field\n",
    "from astropy.io.votable import from_table, writeto"
   ]
  },
  {
   "cell_type": "code",
   "execution_count": 4,
   "metadata": {
    "collapsed": true
   },
   "outputs": [],
   "source": [
    "OUT_DIR =  os.environ.get('TMP_DIR', \"./data_tmp\")\n",
    "try:\n",
    "    os.makedirs(OUT_DIR)\n",
    "except FileExistsError:\n",
    "    pass\n",
    "\n",
    "filters_folder = \"/Users/rs548/GitHub/herschelhelp_python/database_builder/filters/\""
   ]
  },
  {
   "cell_type": "code",
   "execution_count": 114,
   "metadata": {
    "collapsed": true
   },
   "outputs": [],
   "source": [
    "mosaic_ks = ascii.read(filters_folder + 'mosaic_ks.txt')"
   ]
  },
  {
   "cell_type": "code",
   "execution_count": 115,
   "metadata": {},
   "outputs": [
    {
     "data": {
      "text/html": [
       "&lt;Table length=46&gt;\n",
       "<table id=\"table4630059328\" class=\"table-striped table-bordered table-condensed\">\n",
       "<thead><tr><th>col1</th><th>col2</th></tr></thead>\n",
       "<thead><tr><th>float64</th><th>float64</th></tr></thead>\n",
       "<tr><td>1.9</td><td>0.0</td></tr>\n",
       "<tr><td>1.91</td><td>0.005</td></tr>\n",
       "<tr><td>1.92</td><td>0.015</td></tr>\n",
       "<tr><td>1.93</td><td>0.05</td></tr>\n",
       "<tr><td>1.94</td><td>0.16</td></tr>\n",
       "<tr><td>1.95</td><td>0.55</td></tr>\n",
       "<tr><td>1.96</td><td>0.91</td></tr>\n",
       "<tr><td>1.97</td><td>0.95</td></tr>\n",
       "<tr><td>1.98</td><td>0.96</td></tr>\n",
       "<tr><td>1.99</td><td>0.96</td></tr>\n",
       "<tr><td>...</td><td>...</td></tr>\n",
       "<tr><td>2.26</td><td>0.94</td></tr>\n",
       "<tr><td>2.27</td><td>0.96</td></tr>\n",
       "<tr><td>2.28</td><td>0.96</td></tr>\n",
       "<tr><td>2.285</td><td>0.95</td></tr>\n",
       "<tr><td>2.29</td><td>0.9</td></tr>\n",
       "<tr><td>2.3</td><td>0.5</td></tr>\n",
       "<tr><td>2.31</td><td>0.2</td></tr>\n",
       "<tr><td>2.32</td><td>0.04</td></tr>\n",
       "<tr><td>2.33</td><td>0.01</td></tr>\n",
       "<tr><td>2.34</td><td>0.0</td></tr>\n",
       "</table>"
      ],
      "text/plain": [
       "<Table length=46>\n",
       "  col1    col2 \n",
       "float64 float64\n",
       "------- -------\n",
       "    1.9     0.0\n",
       "   1.91   0.005\n",
       "   1.92   0.015\n",
       "   1.93    0.05\n",
       "   1.94    0.16\n",
       "   1.95    0.55\n",
       "   1.96    0.91\n",
       "   1.97    0.95\n",
       "   1.98    0.96\n",
       "   1.99    0.96\n",
       "    ...     ...\n",
       "   2.26    0.94\n",
       "   2.27    0.96\n",
       "   2.28    0.96\n",
       "  2.285    0.95\n",
       "   2.29     0.9\n",
       "    2.3     0.5\n",
       "   2.31     0.2\n",
       "   2.32    0.04\n",
       "   2.33    0.01\n",
       "   2.34     0.0"
      ]
     },
     "execution_count": 115,
     "metadata": {},
     "output_type": "execute_result"
    }
   ],
   "source": [
    "mosaic_ks"
   ]
  },
  {
   "cell_type": "code",
   "execution_count": 117,
   "metadata": {
    "collapsed": true
   },
   "outputs": [],
   "source": [
    "mosaic_ks['col1'].name = 'Wavelength'\n",
    "# Convert units to angstroms\n",
    "mosaic_ks['Wavelength'] = mosaic_ks['Wavelength']*1.e4\n",
    "mosaic_ks['col2'].name = 'Transmission'"
   ]
  },
  {
   "cell_type": "code",
   "execution_count": 118,
   "metadata": {},
   "outputs": [
    {
     "data": {
      "text/html": [
       "&lt;Table length=46&gt;\n",
       "<table id=\"table4630059328\" class=\"table-striped table-bordered table-condensed\">\n",
       "<thead><tr><th>Wavelength</th><th>Transmission</th></tr></thead>\n",
       "<thead><tr><th>float64</th><th>float64</th></tr></thead>\n",
       "<tr><td>19000.0</td><td>0.0</td></tr>\n",
       "<tr><td>19100.0</td><td>0.005</td></tr>\n",
       "<tr><td>19200.0</td><td>0.015</td></tr>\n",
       "<tr><td>19300.0</td><td>0.05</td></tr>\n",
       "<tr><td>19400.0</td><td>0.16</td></tr>\n",
       "<tr><td>19500.0</td><td>0.55</td></tr>\n",
       "<tr><td>19600.0</td><td>0.91</td></tr>\n",
       "<tr><td>19700.0</td><td>0.95</td></tr>\n",
       "<tr><td>19800.0</td><td>0.96</td></tr>\n",
       "<tr><td>19900.0</td><td>0.96</td></tr>\n",
       "<tr><td>...</td><td>...</td></tr>\n",
       "<tr><td>22600.0</td><td>0.94</td></tr>\n",
       "<tr><td>22700.0</td><td>0.96</td></tr>\n",
       "<tr><td>22800.0</td><td>0.96</td></tr>\n",
       "<tr><td>22850.0</td><td>0.95</td></tr>\n",
       "<tr><td>22900.0</td><td>0.9</td></tr>\n",
       "<tr><td>23000.0</td><td>0.5</td></tr>\n",
       "<tr><td>23100.0</td><td>0.2</td></tr>\n",
       "<tr><td>23200.0</td><td>0.04</td></tr>\n",
       "<tr><td>23300.0</td><td>0.01</td></tr>\n",
       "<tr><td>23400.0</td><td>0.0</td></tr>\n",
       "</table>"
      ],
      "text/plain": [
       "<Table length=46>\n",
       "Wavelength Transmission\n",
       " float64     float64   \n",
       "---------- ------------\n",
       "   19000.0          0.0\n",
       "   19100.0        0.005\n",
       "   19200.0        0.015\n",
       "   19300.0         0.05\n",
       "   19400.0         0.16\n",
       "   19500.0         0.55\n",
       "   19600.0         0.91\n",
       "   19700.0         0.95\n",
       "   19800.0         0.96\n",
       "   19900.0         0.96\n",
       "       ...          ...\n",
       "   22600.0         0.94\n",
       "   22700.0         0.96\n",
       "   22800.0         0.96\n",
       "   22850.0         0.95\n",
       "   22900.0          0.9\n",
       "   23000.0          0.5\n",
       "   23100.0          0.2\n",
       "   23200.0         0.04\n",
       "   23300.0         0.01\n",
       "   23400.0          0.0"
      ]
     },
     "execution_count": 118,
     "metadata": {},
     "output_type": "execute_result"
    }
   ],
   "source": [
    "mosaic_ks"
   ]
  },
  {
   "cell_type": "code",
   "execution_count": 119,
   "metadata": {
    "collapsed": true
   },
   "outputs": [],
   "source": [
    "writeto(mosaic_ks, filters_folder + 'mosaic_ks.xml')"
   ]
  },
  {
   "cell_type": "code",
   "execution_count": 7,
   "metadata": {},
   "outputs": [
    {
     "data": {
      "text/html": [
       "&lt;Table length=901&gt;\n",
       "<table id=\"table4534500768\" class=\"table-striped table-bordered table-condensed\">\n",
       "<thead><tr><th>Wavelength</th><th>Transmission</th></tr></thead>\n",
       "<thead><tr><th>float64</th><th>float64</th></tr></thead>\n",
       "<tr><td>3200.0</td><td>-0.01</td></tr>\n",
       "<tr><td>3202.0</td><td>-0.015</td></tr>\n",
       "<tr><td>3204.0</td><td>-0.005</td></tr>\n",
       "<tr><td>3206.0</td><td>0.01</td></tr>\n",
       "<tr><td>3208.0</td><td>-0.01</td></tr>\n",
       "<tr><td>3210.0</td><td>-0.015</td></tr>\n",
       "<tr><td>3212.0</td><td>-0.01</td></tr>\n",
       "<tr><td>3214.0</td><td>-0.02</td></tr>\n",
       "<tr><td>3216.0</td><td>-0.02</td></tr>\n",
       "<tr><td>3218.0</td><td>-0.01</td></tr>\n",
       "<tr><td>...</td><td>...</td></tr>\n",
       "<tr><td>4982.0</td><td>0.005</td></tr>\n",
       "<tr><td>4984.0</td><td>0.0</td></tr>\n",
       "<tr><td>4986.0</td><td>0.0</td></tr>\n",
       "<tr><td>4988.0</td><td>0.0</td></tr>\n",
       "<tr><td>4990.0</td><td>0.0</td></tr>\n",
       "<tr><td>4992.0</td><td>0.005</td></tr>\n",
       "<tr><td>4994.0</td><td>0.0</td></tr>\n",
       "<tr><td>4996.0</td><td>0.0</td></tr>\n",
       "<tr><td>4998.0</td><td>0.0</td></tr>\n",
       "<tr><td>5000.0</td><td>0.0</td></tr>\n",
       "</table>"
      ],
      "text/plain": [
       "<Table length=901>\n",
       "Wavelength Transmission\n",
       " float64     float64   \n",
       "---------- ------------\n",
       "    3200.0        -0.01\n",
       "    3202.0       -0.015\n",
       "    3204.0       -0.005\n",
       "    3206.0         0.01\n",
       "    3208.0        -0.01\n",
       "    3210.0       -0.015\n",
       "    3212.0        -0.01\n",
       "    3214.0        -0.02\n",
       "    3216.0        -0.02\n",
       "    3218.0        -0.01\n",
       "       ...          ...\n",
       "    4982.0        0.005\n",
       "    4984.0          0.0\n",
       "    4986.0          0.0\n",
       "    4988.0          0.0\n",
       "    4990.0          0.0\n",
       "    4992.0        0.005\n",
       "    4994.0          0.0\n",
       "    4996.0          0.0\n",
       "    4998.0          0.0\n",
       "    5000.0          0.0"
      ]
     },
     "execution_count": 7,
     "metadata": {},
     "output_type": "execute_result"
    }
   ],
   "source": [
    "mosaic_b = ascii.read(filters_folder + 'mosaic_b.dat')\n",
    "mosaic_b['col1'].name = 'Wavelength'\n",
    "mosaic_b['col2'].name = 'Transmission'\n",
    "mosaic_b"
   ]
  },
  {
   "cell_type": "code",
   "execution_count": null,
   "metadata": {
    "collapsed": true
   },
   "outputs": [],
   "source": [
    "writeto(mosaic_b, filters_folder + 'mosaic_b.xml')"
   ]
  }
 ],
 "metadata": {
  "anaconda-cloud": {},
  "kernelspec": {
   "display_name": "Python (herschelhelp_internal)",
   "language": "python",
   "name": "helpint"
  },
  "language_info": {
   "codemirror_mode": {
    "name": "ipython",
    "version": 3
   },
   "file_extension": ".py",
   "mimetype": "text/x-python",
   "name": "python",
   "nbconvert_exporter": "python",
   "pygments_lexer": "ipython3",
   "version": "3.6.1"
  }
 },
 "nbformat": 4,
 "nbformat_minor": 1
}
