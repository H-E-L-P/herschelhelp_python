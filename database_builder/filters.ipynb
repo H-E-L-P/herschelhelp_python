{
 "cells": [
  {
   "cell_type": "markdown",
   "metadata": {},
   "source": [
    "# Filter format conversion\n",
    "\n",
    "Most filters are from SVO. Where theses are not available or we have superior options they may be in different formats and need converting or checking. This notebook is converts filters in non votable form to votable format."
   ]
  },
  {
   "cell_type": "code",
   "execution_count": 1,
   "metadata": {},
   "outputs": [
    {
     "name": "stdout",
     "output_type": "stream",
     "text": [
      "This notebook was run with herschelhelp_internal version: \n",
      "0246c5d (Thu Jan 25 17:01:47 2018 +0000) [with local modifications]\n"
     ]
    }
   ],
   "source": [
    "from herschelhelp_internal import git_version\n",
    "print(\"This notebook was run with herschelhelp_internal version: \\n{}\".format(git_version()))"
   ]
  },
  {
   "cell_type": "code",
   "execution_count": 22,
   "metadata": {},
   "outputs": [],
   "source": [
    "%matplotlib inline\n",
    "#%config InlineBackend.figure_format = 'svg'\n",
    "\n",
    "import matplotlib.pyplot as plt\n",
    "plt.rc('figure', figsize=(10, 6))\n",
    "\n",
    "import seaborn.apionly as sns\n",
    "\n",
    "from collections import OrderedDict\n",
    "import os\n",
    "\n",
    "from astropy import units as u\n",
    "from astropy.coordinates import SkyCoord\n",
    "from astropy.table import Column, Table\n",
    "import numpy as np\n",
    "\n",
    "from herschelhelp_internal.flagging import  gaia_flag_column\n",
    "from herschelhelp_internal.masterlist import nb_astcor_diag_plot, remove_duplicates\n",
    "from herschelhelp_internal.utils import astrometric_correction, mag_to_flux\n",
    "\n",
    "from astropy.io.votable import parse\n",
    "from astropy.io.votable import parse_single_table\n",
    "from astropy.io import ascii\n",
    "from astropy.io.votable.tree import VOTableFile, Resource, Field\n",
    "from astropy.io.votable import from_table, writeto"
   ]
  },
  {
   "cell_type": "code",
   "execution_count": 3,
   "metadata": {
    "collapsed": true
   },
   "outputs": [],
   "source": [
    "OUT_DIR =  os.environ.get('TMP_DIR', \"./data_tmp\")\n",
    "try:\n",
    "    os.makedirs(OUT_DIR)\n",
    "except FileExistsError:\n",
    "    pass\n",
    "\n",
    "#filters_folder = \"/Users/rs548/GitHub/herschelhelp_python/database_builder/format_changing/\""
   ]
  },
  {
   "cell_type": "markdown",
   "metadata": {},
   "source": [
    "## Mosaic Ks"
   ]
  },
  {
   "cell_type": "code",
   "execution_count": 4,
   "metadata": {
    "collapsed": true
   },
   "outputs": [],
   "source": [
    "mosaic_ks = ascii.read('./format_changing/mosaic_ks.txt')"
   ]
  },
  {
   "cell_type": "code",
   "execution_count": 5,
   "metadata": {},
   "outputs": [
    {
     "data": {
      "text/html": [
       "&lt;Table length=46&gt;\n",
       "<table id=\"table4664789984\" class=\"table-striped table-bordered table-condensed\">\n",
       "<thead><tr><th>col1</th><th>col2</th></tr></thead>\n",
       "<thead><tr><th>float64</th><th>float64</th></tr></thead>\n",
       "<tr><td>1.9</td><td>0.0</td></tr>\n",
       "<tr><td>1.91</td><td>0.005</td></tr>\n",
       "<tr><td>1.92</td><td>0.015</td></tr>\n",
       "<tr><td>1.93</td><td>0.05</td></tr>\n",
       "<tr><td>1.94</td><td>0.16</td></tr>\n",
       "<tr><td>1.95</td><td>0.55</td></tr>\n",
       "<tr><td>1.96</td><td>0.91</td></tr>\n",
       "<tr><td>1.97</td><td>0.95</td></tr>\n",
       "<tr><td>1.98</td><td>0.96</td></tr>\n",
       "<tr><td>1.99</td><td>0.96</td></tr>\n",
       "<tr><td>...</td><td>...</td></tr>\n",
       "<tr><td>2.26</td><td>0.94</td></tr>\n",
       "<tr><td>2.27</td><td>0.96</td></tr>\n",
       "<tr><td>2.28</td><td>0.96</td></tr>\n",
       "<tr><td>2.285</td><td>0.95</td></tr>\n",
       "<tr><td>2.29</td><td>0.9</td></tr>\n",
       "<tr><td>2.3</td><td>0.5</td></tr>\n",
       "<tr><td>2.31</td><td>0.2</td></tr>\n",
       "<tr><td>2.32</td><td>0.04</td></tr>\n",
       "<tr><td>2.33</td><td>0.01</td></tr>\n",
       "<tr><td>2.34</td><td>0.0</td></tr>\n",
       "</table>"
      ],
      "text/plain": [
       "<Table length=46>\n",
       "  col1    col2 \n",
       "float64 float64\n",
       "------- -------\n",
       "    1.9     0.0\n",
       "   1.91   0.005\n",
       "   1.92   0.015\n",
       "   1.93    0.05\n",
       "   1.94    0.16\n",
       "   1.95    0.55\n",
       "   1.96    0.91\n",
       "   1.97    0.95\n",
       "   1.98    0.96\n",
       "   1.99    0.96\n",
       "    ...     ...\n",
       "   2.26    0.94\n",
       "   2.27    0.96\n",
       "   2.28    0.96\n",
       "  2.285    0.95\n",
       "   2.29     0.9\n",
       "    2.3     0.5\n",
       "   2.31     0.2\n",
       "   2.32    0.04\n",
       "   2.33    0.01\n",
       "   2.34     0.0"
      ]
     },
     "execution_count": 5,
     "metadata": {},
     "output_type": "execute_result"
    }
   ],
   "source": [
    "mosaic_ks[:10]"
   ]
  },
  {
   "cell_type": "code",
   "execution_count": 6,
   "metadata": {
    "collapsed": true
   },
   "outputs": [],
   "source": [
    "mosaic_ks['col1'].name = 'Wavelength'\n",
    "# Convert units to angstroms\n",
    "mosaic_ks['Wavelength'] = mosaic_ks['Wavelength']*1.e4\n",
    "mosaic_ks['Wavelength'].unit = u.angstrom\n",
    "mosaic_ks['col2'].name = 'Transmission'\n",
    "mosaic_ks.meta[\"Description\"] = 'Ks Mosaic'\n",
    "mosaic_ks.meta[\"Band\"] = 'Ks'\n",
    "mosaic_ks.meta[\"Facility\"] = 'KPNO'\n",
    "mosaic_ks.meta[\"Instrument\"] = 'Mosaic'\n",
    "# Required meta"
   ]
  },
  {
   "cell_type": "code",
   "execution_count": 7,
   "metadata": {},
   "outputs": [
    {
     "data": {
      "text/html": [
       "&lt;Table length=46&gt;\n",
       "<table id=\"table4664789984\" class=\"table-striped table-bordered table-condensed\">\n",
       "<thead><tr><th>Wavelength</th><th>Transmission</th></tr></thead>\n",
       "<thead><tr><th>Angstrom</th><th></th></tr></thead>\n",
       "<thead><tr><th>float64</th><th>float64</th></tr></thead>\n",
       "<tr><td>19000.0</td><td>0.0</td></tr>\n",
       "<tr><td>19100.0</td><td>0.005</td></tr>\n",
       "<tr><td>19200.0</td><td>0.015</td></tr>\n",
       "<tr><td>19300.0</td><td>0.05</td></tr>\n",
       "<tr><td>19400.0</td><td>0.16</td></tr>\n",
       "<tr><td>19500.0</td><td>0.55</td></tr>\n",
       "<tr><td>19600.0</td><td>0.91</td></tr>\n",
       "<tr><td>19700.0</td><td>0.95</td></tr>\n",
       "<tr><td>19800.0</td><td>0.96</td></tr>\n",
       "<tr><td>...</td><td>...</td></tr>\n",
       "<tr><td>22600.0</td><td>0.94</td></tr>\n",
       "<tr><td>22700.0</td><td>0.96</td></tr>\n",
       "<tr><td>22800.0</td><td>0.96</td></tr>\n",
       "<tr><td>22850.0</td><td>0.95</td></tr>\n",
       "<tr><td>22900.0</td><td>0.9</td></tr>\n",
       "<tr><td>23000.0</td><td>0.5</td></tr>\n",
       "<tr><td>23100.0</td><td>0.2</td></tr>\n",
       "<tr><td>23200.0</td><td>0.04</td></tr>\n",
       "<tr><td>23300.0</td><td>0.01</td></tr>\n",
       "<tr><td>23400.0</td><td>0.0</td></tr>\n",
       "</table>"
      ],
      "text/plain": [
       "<Table length=46>\n",
       "Wavelength Transmission\n",
       " Angstrom              \n",
       " float64     float64   \n",
       "---------- ------------\n",
       "   19000.0          0.0\n",
       "   19100.0        0.005\n",
       "   19200.0        0.015\n",
       "   19300.0         0.05\n",
       "   19400.0         0.16\n",
       "   19500.0         0.55\n",
       "   19600.0         0.91\n",
       "   19700.0         0.95\n",
       "   19800.0         0.96\n",
       "       ...          ...\n",
       "   22600.0         0.94\n",
       "   22700.0         0.96\n",
       "   22800.0         0.96\n",
       "   22850.0         0.95\n",
       "   22900.0          0.9\n",
       "   23000.0          0.5\n",
       "   23100.0          0.2\n",
       "   23200.0         0.04\n",
       "   23300.0         0.01\n",
       "   23400.0          0.0"
      ]
     },
     "execution_count": 7,
     "metadata": {},
     "output_type": "execute_result"
    }
   ],
   "source": [
    "mosaic_ks[:10]"
   ]
  },
  {
   "cell_type": "code",
   "execution_count": 8,
   "metadata": {
    "collapsed": true
   },
   "outputs": [],
   "source": [
    "writeto(mosaic_ks, './filters/mosaic_ks.xml')"
   ]
  },
  {
   "cell_type": "code",
   "execution_count": 9,
   "metadata": {
    "collapsed": true
   },
   "outputs": [],
   "source": [
    "mosaic_b = ascii.read('./format_changing/mosaic_b.dat')\n",
    "mosaic_b['col1'].name = 'Wavelength'\n",
    "mosaic_b['Wavelength'].unit = u.angstrom\n",
    "mosaic_b['col2'].name = 'Transmission'\n",
    "#Convert percent to fraction\n",
    "mosaic_b['Transmission'] = mosaic_b['Transmission']*1.e-2\n",
    "#mosaic_b\n",
    "mosaic_b.meta[\"Description\"] = 'Bw Mosaic k1025'\n",
    "mosaic_b.meta[\"Band\"] = 'Bw'\n",
    "mosaic_b.meta[\"Facility\"] = 'KPNO'\n",
    "mosaic_b.meta[\"Instrument\"] = 'Mosaic'"
   ]
  },
  {
   "cell_type": "code",
   "execution_count": 10,
   "metadata": {},
   "outputs": [
    {
     "data": {
      "text/html": [
       "&lt;Table length=901&gt;\n",
       "<table id=\"table4478130104\" class=\"table-striped table-bordered table-condensed\">\n",
       "<thead><tr><th>Wavelength</th><th>Transmission</th></tr></thead>\n",
       "<thead><tr><th>Angstrom</th><th></th></tr></thead>\n",
       "<thead><tr><th>float64</th><th>float64</th></tr></thead>\n",
       "<tr><td>3200.0</td><td>-0.0001</td></tr>\n",
       "<tr><td>3202.0</td><td>-0.00015</td></tr>\n",
       "<tr><td>3204.0</td><td>-5e-05</td></tr>\n",
       "<tr><td>3206.0</td><td>0.0001</td></tr>\n",
       "<tr><td>3208.0</td><td>-0.0001</td></tr>\n",
       "<tr><td>3210.0</td><td>-0.00015</td></tr>\n",
       "<tr><td>3212.0</td><td>-0.0001</td></tr>\n",
       "<tr><td>3214.0</td><td>-0.0002</td></tr>\n",
       "<tr><td>3216.0</td><td>-0.0002</td></tr>\n",
       "<tr><td>...</td><td>...</td></tr>\n",
       "<tr><td>4982.0</td><td>5e-05</td></tr>\n",
       "<tr><td>4984.0</td><td>0.0</td></tr>\n",
       "<tr><td>4986.0</td><td>0.0</td></tr>\n",
       "<tr><td>4988.0</td><td>0.0</td></tr>\n",
       "<tr><td>4990.0</td><td>0.0</td></tr>\n",
       "<tr><td>4992.0</td><td>5e-05</td></tr>\n",
       "<tr><td>4994.0</td><td>0.0</td></tr>\n",
       "<tr><td>4996.0</td><td>0.0</td></tr>\n",
       "<tr><td>4998.0</td><td>0.0</td></tr>\n",
       "<tr><td>5000.0</td><td>0.0</td></tr>\n",
       "</table>"
      ],
      "text/plain": [
       "<Table length=901>\n",
       "Wavelength Transmission\n",
       " Angstrom              \n",
       " float64     float64   \n",
       "---------- ------------\n",
       "    3200.0      -0.0001\n",
       "    3202.0     -0.00015\n",
       "    3204.0       -5e-05\n",
       "    3206.0       0.0001\n",
       "    3208.0      -0.0001\n",
       "    3210.0     -0.00015\n",
       "    3212.0      -0.0001\n",
       "    3214.0      -0.0002\n",
       "    3216.0      -0.0002\n",
       "       ...          ...\n",
       "    4982.0        5e-05\n",
       "    4984.0          0.0\n",
       "    4986.0          0.0\n",
       "    4988.0          0.0\n",
       "    4990.0          0.0\n",
       "    4992.0        5e-05\n",
       "    4994.0          0.0\n",
       "    4996.0          0.0\n",
       "    4998.0          0.0\n",
       "    5000.0          0.0"
      ]
     },
     "execution_count": 10,
     "metadata": {},
     "output_type": "execute_result"
    }
   ],
   "source": [
    "mosaic_b[:10]"
   ]
  },
  {
   "cell_type": "code",
   "execution_count": 11,
   "metadata": {
    "collapsed": true
   },
   "outputs": [],
   "source": [
    "writeto(mosaic_b, './filters/mosaic_b.xml')"
   ]
  },
  {
   "cell_type": "markdown",
   "metadata": {},
   "source": [
    "## Suprime narrow\n",
    "\n",
    "Filters downloaded from http://cosmos.astro.caltech.edu/page/filterset\n",
    "\n",
    "For some reason teh same filter is sometimes always labelled IB and sometimes ia or ib. We follow the convention in the COSMOS2015 paper.\n",
    "\n",
    "|name in COSMOS2015| name in HELP    | Name on download page |\n",
    "|:-----------------|:----------------|:----------------------|\n",
    "| ia484            | suprime_ia484   | IB484                 |\n",
    "| ia527            | suprime_ia527   | IB527                 |\n",
    "| ia624            | suprime_ia624   | IB624                 |\n",
    "| ia679            | suprime_ia679   | IB679                 |\n",
    "| ia738            | suprime_ia738   | IB738                 |\n",
    "| ia767            | suprime_ia767   | IB767                 |\n",
    "| ib427            | suprime_ib427   | IB427                 |\n",
    "| ib464            | suprime_ib464   | IB464                 |\n",
    "| ib505            | suprime_ib505   | IB505                 |\n",
    "| ib574            | suprime_ib574   | IB574                 |\n",
    "| ib709            | suprime_ib709   | IB709                 |\n",
    "| ib827            | suprime_ib827   | IB827                 |"
   ]
  },
  {
   "cell_type": "code",
   "execution_count": 12,
   "metadata": {
    "collapsed": true
   },
   "outputs": [],
   "source": [
    "suprime_filters = [\n",
    "    'ia484',\n",
    "    'ia527',\n",
    "    'ia624',\n",
    "    'ia679',\n",
    "    'ia738',\n",
    "    'ia767',\n",
    "    'ib427',\n",
    "    'ib464',\n",
    "    'ib505',\n",
    "    'ib574',\n",
    "    'ib709',\n",
    "    'ib827'\n",
    "]\n"
   ]
  },
  {
   "cell_type": "code",
   "execution_count": 13,
   "metadata": {},
   "outputs": [
    {
     "data": {
      "text/plain": [
       "OrderedDict([('comments',\n",
       "              ['filter: IB427',\n",
       "               'instrument: SuprimeCam',\n",
       "               'description: Telescope + CCD + filter + atmosphere',\n",
       "               'reference: None',\n",
       "               'comment: Filter Passband from S. Sasaki web page, file IB3_07.txt',\n",
       "               'comment: CCD and Optics transmission derived from the filter curves',\n",
       "               'comment: at http://indus.astron.s.u-tokyo.ac.jp/works/suprime/filters/',\n",
       "               'comment: Litterature inband flux at 0 mag and bandwidth computed from bandpass',\n",
       "               'comment: Prepared by H. Aussel (herve dot aussel at cea dot fr)',\n",
       "               'url: http://cosmos.phys.sci.ehime-u.ac.jp/~sasaki/NB+IA_FILTER/filter.html',\n",
       "               'system: ab',\n",
       "               'primary standard: abstd',\n",
       "               'primary magnitude: 0.0',\n",
       "               'bandwidth (xunit): 195.80568365897',\n",
       "               'inband flux at 0 mag: 1.17279863299192E-09',\n",
       "               'airmass: 1.2',\n",
       "               'airmass function: maunakea_subaru',\n",
       "               'xtype: wavelength',\n",
       "               'xunit: Angstrom',\n",
       "               'xref (xunit): 4270.0',\n",
       "               'ytype: QE'])])"
      ]
     },
     "execution_count": 13,
     "metadata": {},
     "output_type": "execute_result"
    }
   ],
   "source": [
    "sup_test = ascii.read('./format_changing/IB427.SuprimeCam.pb')\n",
    "sup_test[:10].show_in_notebook()\n",
    "sup_test.meta"
   ]
  },
  {
   "cell_type": "code",
   "execution_count": 16,
   "metadata": {},
   "outputs": [],
   "source": [
    "for f in suprime_filters:\n",
    "    tab = ascii.read('./format_changing/{}.SuprimeCam.pb'.format(f.upper()))\n",
    "    tab['file:'].name = 'Wavelength'\n",
    "    tab['Wavelength'].unit = u.angstrom\n",
    "    tab['{}.SuprimeCam.pb'.format(f.replace('a','b').upper())].name = 'Transmission'\n",
    "    tab.meta[\"Description\"] = 'Suprime {}'.format(f)\n",
    "    tab.meta[\"Band\"] = f\n",
    "    tab.meta[\"Facility\"] = 'Subaru'\n",
    "    writeto(tab, './filters/suprime_{}.xml'.format(f.lower()))"
   ]
  },
  {
   "cell_type": "markdown",
   "metadata": {},
   "source": [
    "For Suprime zp we have teh option of using the SVO one and doubling it or taking the download and converting. "
   ]
  },
  {
   "cell_type": "code",
   "execution_count": 36,
   "metadata": {},
   "outputs": [],
   "source": [
    "suprime_zp = ascii.read('./format_changing/suprime_zp.res')\n",
    "suprime_zp['col1'].name = 'Wavelength'\n",
    "suprime_zp['Wavelength'].unit = u.angstrom\n",
    "suprime_zp['col2'].name = 'Transmission'\n",
    "#Use over SVO doubles?\n",
    "writeto(tab, './filters/suprime_zp.xml')"
   ]
  },
  {
   "cell_type": "code",
   "execution_count": 37,
   "metadata": {
    "collapsed": true
   },
   "outputs": [],
   "source": [
    "suprime_zpp = ascii.read('./format_changing/suprime_zpp.res')\n",
    "suprime_zpp['col1'].name = 'Wavelength'\n",
    "suprime_zpp['Wavelength'].unit = u.angstrom\n",
    "suprime_zpp['col2'].name = 'Transmission'\n",
    "#Use over SVO doubles?\n",
    "writeto(tab, './filters/suprime_zp.xml')"
   ]
  },
  {
   "cell_type": "code",
   "execution_count": 39,
   "metadata": {},
   "outputs": [
    {
     "name": "stderr",
     "output_type": "stream",
     "text": [
      "WARNING: W42: ./format_changing/SVO_suprime_zp.xml:2:0: W42: No XML namespace specified [astropy.io.votable.tree]\n"
     ]
    }
   ],
   "source": [
    "svo_suprime_zp = Table(data = parse_single_table('./format_changing/SVO_suprime_zp.xml').array.data)"
   ]
  },
  {
   "cell_type": "code",
   "execution_count": 40,
   "metadata": {},
   "outputs": [
    {
     "data": {
      "text/plain": [
       "<matplotlib.text.Text at 0x116498828>"
      ]
     },
     "execution_count": 40,
     "metadata": {},
     "output_type": "execute_result"
    },
    {
     "data": {
      "image/png": "[encoded data removed]",
      "text/plain": [
       "<matplotlib.figure.Figure at 0x1163a26a0>"
      ]
     },
     "metadata": {},
     "output_type": "display_data"
    }
   ],
   "source": [
    "plt.plot(suprime_zp['Wavelength'],suprime_zp['Transmission'], label='suprime_zp')\n",
    "\n",
    "plt.plot(suprime_zpp['Wavelength'],suprime_zpp['Transmission'], label='suprime_zpp')\n",
    "\n",
    "plt.plot(svo_suprime_zp['Wavelength'],svo_suprime_zp['Transmission'], label='svo_suprime_zp')\n",
    "\n",
    "plt.xlabel('Wavelength ($\\AA$)')\n",
    "plt.ylabel('Transmission')\n",
    "plt.xscale('log')\n",
    "plt.legend(bbox_to_anchor=(1.05, 1), loc=2, borderaxespad=0.)\n",
    "plt.title('Comparison between Suprime filter transmissions')"
   ]
  },
  {
   "cell_type": "markdown",
   "metadata": {},
   "source": [
    "It looks like the SVO filters don't include atmospheric correction so we use the downloaded conversions"
   ]
  },
  {
   "cell_type": "markdown",
   "metadata": {},
   "source": [
    "### Hawaii QUIRC instrument HK"
   ]
  },
  {
   "cell_type": "code",
   "execution_count": 41,
   "metadata": {},
   "outputs": [],
   "source": [
    "quirc_hk = ascii.read('./format_changing/quirc_hk.txt')\n",
    "quirc_hk['col1'].name = 'Wavelength'\n",
    "quirc_hk['Wavelength'] *= 10000.\n",
    "quirc_hk['Wavelength'].unit = u.angstrom\n",
    "quirc_hk['col2'].name = 'Transmission'\n",
    "\n"
   ]
  },
  {
   "cell_type": "code",
   "execution_count": 42,
   "metadata": {},
   "outputs": [
    {
     "data": {
      "text/html": [
       "&lt;Column name=&apos;Wavelength&apos; dtype=&apos;float64&apos; unit=&apos;Angstrom&apos; length=10&gt;\n",
       "<table>\n",
       "<tr><td>13900.0</td></tr>\n",
       "<tr><td>14000.0</td></tr>\n",
       "<tr><td>14100.0</td></tr>\n",
       "<tr><td>14200.0</td></tr>\n",
       "<tr><td>14300.0</td></tr>\n",
       "<tr><td>14400.0</td></tr>\n",
       "<tr><td>14500.0</td></tr>\n",
       "<tr><td>14600.0</td></tr>\n",
       "<tr><td>14700.0</td></tr>\n",
       "<tr><td>14800.0</td></tr>\n",
       "</table>"
      ],
      "text/plain": [
       "<Column name='Wavelength' dtype='float64' unit='Angstrom' length=10>\n",
       "13900.0\n",
       "14000.0\n",
       "14100.0\n",
       "14200.0\n",
       "14300.0\n",
       "14400.0\n",
       "14500.0\n",
       "14600.0\n",
       "14700.0\n",
       "14800.0"
      ]
     },
     "execution_count": 42,
     "metadata": {},
     "output_type": "execute_result"
    }
   ],
   "source": [
    "quirc_hk['Wavelength'][:10]"
   ]
  },
  {
   "cell_type": "code",
   "execution_count": 43,
   "metadata": {
    "collapsed": true
   },
   "outputs": [],
   "source": [
    "writeto(tab, './filters/quirc_hk.xml')"
   ]
  }
 ],
 "metadata": {
  "anaconda-cloud": {},
  "kernelspec": {
   "display_name": "Python (herschelhelp_internal)",
   "language": "python",
   "name": "helpint"
  },
  "language_info": {
   "codemirror_mode": {
    "name": "ipython",
    "version": 3
   },
   "file_extension": ".py",
   "mimetype": "text/x-python",
   "name": "python",
   "nbconvert_exporter": "python",
   "pygments_lexer": "ipython3",
   "version": "3.6.1"
  }
 },
 "nbformat": 4,
 "nbformat_minor": 1
}
